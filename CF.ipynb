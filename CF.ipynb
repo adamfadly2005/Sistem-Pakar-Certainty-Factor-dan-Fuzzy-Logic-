{
  "cells": [
    {
      "cell_type": "markdown",
      "metadata": {
        "id": "view-in-github",
        "colab_type": "text"
      },
      "source": [
        "<a href=\"https://colab.research.google.com/github/adamfadly2005/Sistem-Pakar-Certainty-Factor-dan-Fuzzy-Logic-/blob/main/CF.ipynb\" target=\"_parent\"><img src=\"https://colab.research.google.com/assets/colab-badge.svg\" alt=\"Open In Colab\"/></a>"
      ]
    },
    {
      "cell_type": "code",
      "execution_count": 50,
      "metadata": {
        "colab": {
          "base_uri": "https://localhost:8080/"
        },
        "id": "PDa0TDVHlCvI",
        "outputId": "e6f8077f-d35f-43ff-95d1-ff6627032f8f"
      },
      "outputs": [
        {
          "output_type": "stream",
          "name": "stdout",
          "text": [
            "CF diagnosis Flu: 0.97\n"
          ]
        }
      ],
      "source": [
        "gejala_user = {\n",
        "    \"demam\": 0.2,\n",
        "    \"batuk\": 0.5,\n",
        "    \"sakit_tenggorokan\": 0.6,\n",
        "    \"pilek\": 0.7,\n",
        "    \"lemas\": 0.6,\n",
        "    \"sakit_kepala\": 0.5,\n",
        "    \"bersin\": 0.4,\n",
        "    \"nyeri_otot\": 0.5\n",
        "}\n",
        "\n",
        "pengetahuan = {\n",
        "    \"flu\": {\n",
        "        \"demam\": 0.8,\n",
        "        \"batuk\": 0.7,\n",
        "        \"sakit_tenggorokan\": 0.6,\n",
        "        \"pilek\": 0.9,\n",
        "        \"lemas\": 0.5,\n",
        "        \"sakit_kepala\": 0.6,\n",
        "        \"bersin\": 0.4,\n",
        "        \"nyeri_otot\": 0.7\n",
        "    }\n",
        "}\n",
        "\n",
        "def hitung_cf(gejala_user, pengetahuan_pakar):\n",
        "    cf_total = 0\n",
        "    first = True\n",
        "    for gejala, cf_user in gejala_user.items():\n",
        "        if gejala in pengetahuan_pakar:\n",
        "            cf_pakar = pengetahuan_pakar[gejala]\n",
        "            cf = cf_user * cf_pakar\n",
        "            if first:\n",
        "                cf_total = cf\n",
        "                first = False\n",
        "            else:\n",
        "                cf_total = cf_total + cf * (1 - cf_total)\n",
        "    return cf_total\n",
        "\n",
        "cf_flu = hitung_cf(gejala_user, pengetahuan[\"flu\"])\n",
        "print(f\"CF diagnosis Flu: {cf_flu:.2f}\")\n",
        "\n",
        "\n",
        "## awalnya nilai gejala demam = 0.7 lalu saya ubah menjadi demam = 0.2,dan hasilnya menjadi menurun yang awalnya 0.82 menjadi 0.65,Penurunan nilai CF pada gejala 'demam' menjadi 0.2\n",
        "## menyebabkan tingkat keyakinan terhadap diagnosis flu ikut menurun, karena 'demam' adalah salah satu gejala kunci dari flu. Akibatnya, CF total jadi lebih rendah karena tingkat kepercayaan sistem ikut berkurang\n",
        "## dengan maenambahkan 5 gejala baru, bisa membuat sistem lebih yakin untuk mendiagnosis flu"
      ]
    },
    {
      "cell_type": "code",
      "execution_count": 39,
      "metadata": {
        "colab": {
          "base_uri": "https://localhost:8080/"
        },
        "id": "4GQjX4SBmVMO",
        "outputId": "ea630c47-2130-427d-b4c6-1d2b134bce2a"
      },
      "outputs": [
        {
          "output_type": "stream",
          "name": "stdout",
          "text": [
            "CF diagnosis rheumatoid_arthritis: 0.98\n",
            "CF diagnosis osteoarthritis: 0.89\n"
          ]
        }
      ],
      "source": [
        "gejala_user = {\n",
        "    \"nyeri_sendi\": 0.8,\n",
        "    \"bengkak_sendi\": 0.7,\n",
        "    \"kaku_sendi_pagi\": 0.9,\n",
        "    \"demam_ringan\": 0.3\n",
        "}\n",
        "\n",
        "pengetahuan = {\n",
        "    \"rheumatoid_arthritis\": {\n",
        "        \"nyeri_sendi\": 0.9,\n",
        "        \"bengkak_sendi\": 0.8,\n",
        "        \"kaku_sendi_pagi\": 0.9,\n",
        "        \"demam_ringan\": 0.4\n",
        "    },\n",
        "    \"osteoarthritis\": {\n",
        "        \"nyeri_sendi\": 0.8,\n",
        "        \"bengkak_sendi\": 0.6,\n",
        "        \"kaku_sendi_pagi\": 0.5\n",
        "    }\n",
        "}\n",
        "\n",
        "def hitung_cf(gejala_user, pengetahuan_pakar):\n",
        "    cf_total = 0\n",
        "    first = True\n",
        "    for gejala, cf_user in gejala_user.items():\n",
        "        if gejala in pengetahuan_pakar:\n",
        "            cf_pakar = pengetahuan_pakar[gejala]\n",
        "            cf = cf_user * cf_pakar\n",
        "            if first:\n",
        "                cf_total = cf\n",
        "                first = False\n",
        "            else:\n",
        "                cf_total = cf_total + cf * (1 - cf_total)\n",
        "    return cf_total\n",
        "\n",
        "# Mendiagnosa dua penyakit berdasarkan gejala yang sama\n",
        "for penyakit in pengetahuan:\n",
        "    cf_result = hitung_cf(gejala_user, pengetahuan[penyakit])\n",
        "    print(f\"CF diagnosis {penyakit}: {cf_result:.2f}\")"
      ]
    },
    {
      "cell_type": "code",
      "source": [
        "# Example 4: Diabetes Diagnosis with Weighted Symptoms\n",
        "\n",
        "gejala_user = {\n",
        "    \"sering_haus\": 0.8,\n",
        "    \"sering_buang_air_kecil\": 0.9,\n",
        "    \"penurunan_berat_badan\": 0.6,\n",
        "    \"luka_lambat_sembuh\": 0.7,\n",
        "    \"penglihatan_kabur\": 0.5\n",
        "}\n",
        "\n",
        "# Pengetahuan pakar dengan bobot gejala\n",
        "pengetahuan = {\n",
        "    \"diabetes_tipe1\": {\n",
        "        \"sering_haus\": 0.9,\n",
        "        \"sering_buang_air_kecil\": 0.9,\n",
        "        \"penurunan_berat_badan\": 0.8,\n",
        "        \"luka_lambat_sembuh\": 0.5\n",
        "    },\n",
        "    \"diabetes_tipe2\": {\n",
        "        \"sering_haus\": 0.7,\n",
        "        \"sering_buang_air_kecil\": 0.7,\n",
        "        \"penurunan_berat_badan\": 0.5,\n",
        "        \"luka_lambat_sembuh\": 0.8,\n",
        "        \"penglihatan_kabur\": 0.6\n",
        "    }\n",
        "}\n",
        "\n",
        "# Bobot kepentingan gejala (1-5)\n",
        "bobot_gejala = {\n",
        "    \"sering_haus\": 4,\n",
        "    \"sering_buang_air_kecil\": 4,\n",
        "    \"penurunan_berat_badan\": 3,\n",
        "    \"luka_lambat_sembuh\": 5,\n",
        "    \"penglihatan_kabur\": 2\n",
        "}\n",
        "\n",
        "def hitung_cf_weighted(gejala_user, pengetahuan_pakar, bobot):\n",
        "    cf_total = 0\n",
        "    first = True\n",
        "    total_bobot = 0\n",
        "\n",
        "    for gejala, cf_user in gejala_user.items():\n",
        "        if gejala in pengetahuan_pakar and gejala in bobot:\n",
        "            cf_pakar = pengetahuan_pakar[gejala]\n",
        "            gejala_weight = bobot[gejala] / 5  # Normalisasi bobot (1–5) -> (0.2–1.0)\n",
        "            cf = cf_user * cf_pakar * gejala_weight\n",
        "\n",
        "            if first:\n",
        "                cf_total = cf\n",
        "                first = False\n",
        "            else:\n",
        "                cf_total = cf_total + cf * (1 - cf_total)\n",
        "\n",
        "            total_bobot += gejala_weight\n",
        "\n",
        "    # Normalisasi hasil berdasarkan total bobot\n",
        "    if total_bobot > 0:\n",
        "        cf_total = cf_total / total_bobot * len([g for g in gejala_user if g in pengetahuan_pakar])\n",
        "\n",
        "    return cf_total\n",
        "\n",
        "\n",
        "for penyakit in pengetahuan:\n",
        "    cf_result = hitung_cf_weighted(gejala_user, pengetahuan[penyakit], bobot_gejala)\n",
        "    print(f\"CF diagnosis {penyakit}: {cf_result:.2f}\")"
      ],
      "metadata": {
        "colab": {
          "base_uri": "https://localhost:8080/"
        },
        "id": "bZLdhU4spXeg",
        "outputId": "7d72f0ea-c62a-4e4d-fe63-ebc059697674"
      },
      "execution_count": 41,
      "outputs": [
        {
          "output_type": "stream",
          "name": "stdout",
          "text": [
            "CF diagnosis diabetes_tipe1: 1.16\n",
            "CF diagnosis diabetes_tipe2: 1.27\n"
          ]
        }
      ]
    }
  ],
  "metadata": {
    "colab": {
      "provenance": [],
      "authorship_tag": "ABX9TyNXxwbT8FkmfyPanrklg57k",
      "include_colab_link": true
    },
    "kernelspec": {
      "display_name": "Python 3",
      "name": "python3"
    },
    "language_info": {
      "name": "python"
    }
  },
  "nbformat": 4,
  "nbformat_minor": 0
}